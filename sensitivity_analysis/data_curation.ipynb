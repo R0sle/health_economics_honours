{
 "cells": [
  {
   "cell_type": "code",
   "execution_count": 3,
   "metadata": {},
   "outputs": [],
   "source": [
    "import numpy as np\n",
    "import pandas as pd\n",
    "import matplotlib.pyplot as plt\n",
    "import copy\n",
    "import numpy as np\n",
    "import joblib"
   ]
  },
  {
   "cell_type": "markdown",
   "metadata": {},
   "source": [
    "## Loading Original Fold Datasets"
   ]
  },
  {
   "cell_type": "markdown",
   "metadata": {},
   "source": [
    "### By Country"
   ]
  },
  {
   "cell_type": "code",
   "execution_count": 4,
   "metadata": {},
   "outputs": [],
   "source": [
    "filepath_income = '../data_with_yearcountry/income'\n",
    "filepath_year = '../data_with_yearcountry/year'"
   ]
  },
  {
   "cell_type": "code",
   "execution_count": 5,
   "metadata": {},
   "outputs": [],
   "source": [
    "train_inc = {}\n",
    "for fold in range(0, 5):\n",
    "    tdata_x1 = pd.read_csv(filepath_income + '/train/X_train_' + str(fold) + '_1.csv')\n",
    "    tdata_x1 = tdata_x1.drop(columns=['Unnamed: 0'], axis=1)\n",
    "    tdata_y1 = pd.read_csv(filepath_income + '/train/y_train_' + str(fold) + '_1.csv')\n",
    "    tdata_y1 = tdata_y1.drop(columns=['Unnamed: 0'], axis=1)\n",
    "\n",
    "    train_inc[fold] = [tdata_x1, tdata_y1]"
   ]
  },
  {
   "cell_type": "code",
   "execution_count": 6,
   "metadata": {},
   "outputs": [],
   "source": [
    "val_inc = {}\n",
    "for fold in range(0, 5):\n",
    "    valx = pd.read_csv(filepath_income + '/val/X_val_' + str(fold) + '.csv')\n",
    "    valx = valx.drop(columns=['Unnamed: 0'], axis=1)\n",
    "    val_y = pd.read_csv(filepath_income + '/val/y_val_' + str(fold) + '.csv')\n",
    "    val_y = val_y.drop(columns=['Unnamed: 0'], axis=1)\n",
    "\n",
    "    val_inc[fold] = [valx, val_y]"
   ]
  },
  {
   "cell_type": "code",
   "execution_count": 7,
   "metadata": {},
   "outputs": [],
   "source": [
    "test_incx = pd.read_csv(filepath_income + '/test/X_test.csv')\n",
    "test_incy = pd.read_csv(filepath_income + '/test/y_test.csv')"
   ]
  },
  {
   "cell_type": "code",
   "execution_count": 8,
   "metadata": {},
   "outputs": [
    {
     "name": "stdout",
     "output_type": "stream",
     "text": [
      "(1058, 606)\n",
      "(1034, 609)\n",
      "(1042, 610)\n",
      "(1023, 606)\n",
      "(1083, 604)\n"
     ]
    }
   ],
   "source": [
    "for fold in range(0, 5):\n",
    "    data = pd.read_csv(filepath_income + '/train/X_train_' + str(fold) + '_85.csv')\n",
    "    data = data.drop(columns=['Unnamed: 0'], axis=1)\n",
    "    print(data.shape)\n"
   ]
  },
  {
   "cell_type": "code",
   "execution_count": 9,
   "metadata": {},
   "outputs": [
    {
     "name": "stdout",
     "output_type": "stream",
     "text": [
      "(1997, 722)\n",
      "(1997, 722)\n",
      "(1998, 722)\n",
      "(1998, 722)\n",
      "(1998, 722)\n"
     ]
    }
   ],
   "source": [
    "for fold in range(5):\n",
    "    print(train_inc[fold][0].shape)"
   ]
  },
  {
   "cell_type": "code",
   "execution_count": 10,
   "metadata": {},
   "outputs": [],
   "source": [
    "import pickle\n",
    "with open('../feature_selection_models/corr_60.pkl', 'rb') as f:\n",
    "    corr_60 = pickle.load(f)\n",
    "with open('../feature_selection_models/corr_70.pkl', 'rb') as f:\n",
    "    corr_70 = pickle.load(f)\n",
    "with open('../feature_selection_models/corr_80.pkl', 'rb') as f:\n",
    "    corr_80 = pickle.load(f)"
   ]
  },
  {
   "cell_type": "code",
   "execution_count": 11,
   "metadata": {},
   "outputs": [],
   "source": [
    "useful_features = ['date', 'Women participating in own health care decisions (% of women age 15-49)',\n",
    "                   'Women and girls who use menstrual materials (% of women and girls ages 15-49 who had a menstrual period within the last year)',\n",
    "                   'Mortality rate, infant (per 1,000 live births)', 'Female genital mutilation prevalence (%)',\n",
    "                   'Pregnant women receiving prenatal care (%)', 'Knowledge of any method of contraception (% of all women ages 15-49)',\n",
    "                   'Demand for family planning satisfied by any methods (% of married women with demand for family planning)',\n",
    "                   'Unmet need for contraception (% of married women ages 15-49)', 'Pregnant women receiving prenatal care of at least four visits (% of pregnant women)',\n",
    "                   'Decision maker about a woman\\'s own health care: someone else (% of women age 15-49)',\n",
    "                    \"Women\\'s share of population ages 15+ living with HIV (%)\", \n",
    "                    'Teenage mothers (% of women ages 15-19 who have had children or are currently pregnant)', \"Births attended by skilled health staff (% of total)\",\n",
    "                    \"Prevalence of overweight (% of adults)\", \"Survival to age 65, female (% of cohort)\", \n",
    "                    \"Stillbirth rate (per 1,000 total births)\", \"Prevalence of anemia among pregnant women (%)\",\n",
    "                    \"Fertility rate, total (births per woman)\", \n",
    "                    \"Women with high empowerment in the attitude to violence domain (%) Quintile 1 (poorest)\",\n",
    "                    \"1.0.0 Communicable, maternal, neonatal, and nutritional diseases prevalence (age standardized) (per 100 000 population) female\",\n",
    "                    \"1.D.0 Neglected tropical diseases and malaria prevalence (age standardized) (per 100 000 population) female\",\n",
    "                    \"1.F.0 Maternal and neonatal disorders prevalence (age standardized) (per 100 000 population) female\",\n",
    "                    \"1.G.0 Nutritional deficiencies prevalence (age standardized) (per 100 000 population) female\",\n",
    "                    \"2.0.0 Non-communicable diseases prevalence (age standardized) (per 100 000 population) female\",\n",
    "                    \"2.G.0 Substance use disorders prevalence (age standardized) (per 100 000 population) female\",\n",
    "                    \"3.B.06 Adverse effects of medical treatment prevalence (age standardized) (per 100 000 population) female\",\n",
    "                    \"3.C.0 Self-harm and interpersonal violence prevalence (age standardized) (per 100 000 population) female\",\n",
    "                    \"3.B.10 Exposure to forces of nature prevalence (age standardized) (per 100 000 population) female\",\n",
    "                    \"3.C.04 Conflict and terrorism prevalence (age standardized) (per 100 000 population) female\",\n",
    "                    \"School enrollment, secondary (% net) female\", \"Literacy rate, adult total (% of people ages 15 and above) female\",\n",
    "                    \"income_num\", \"Borrowed for health or medical purposes (% age 15+)\",\n",
    "                    \"2.B.04 Hypertensive heart disease prevalence (age standardized) (per 100 000 population) female\",\n",
    "                    \"2.H.0 Diabetes and kidney diseases prevalence (age standardized) (per 100 000 population) female\",\n",
    "                    \"Probability of Survival to Age 5\",\n",
    "                    \"Population living in areas where elevation is below 5 meters (% of total population) rural\",\n",
    "                    \"Coverage of social safety net programs (% of population) Quintile 1 (poorest)\"\n",
    "                   ]"
   ]
  },
  {
   "cell_type": "markdown",
   "metadata": {},
   "source": [
    "### By Year"
   ]
  },
  {
   "cell_type": "code",
   "execution_count": 12,
   "metadata": {},
   "outputs": [],
   "source": [
    "filepath_year = '../data_with_yearcountry/year'"
   ]
  },
  {
   "cell_type": "code",
   "execution_count": 13,
   "metadata": {},
   "outputs": [],
   "source": [
    "test_yearx = pd.read_csv(filepath_year + '/test/X_test.csv')\n",
    "test_yeary = pd.read_csv(filepath_year + '/test/y_test.csv')"
   ]
  },
  {
   "cell_type": "code",
   "execution_count": 14,
   "metadata": {},
   "outputs": [],
   "source": [
    "train_year = {}\n",
    "for fold in range(0, 5):\n",
    "    tdata_x1 = pd.read_csv(filepath_year + '/train/X_train_' + str(fold) + '_1.csv')\n",
    "    tdata_x1 = tdata_x1.drop(columns=['Unnamed: 0'], axis=1)\n",
    "    tdata_y1 = pd.read_csv(filepath_year + '/train/y_train_' + str(fold) + '_1.csv')\n",
    "    tdata_y1 = tdata_y1.drop(columns=['Unnamed: 0'], axis=1)\n",
    "\n",
    "    train_year[fold] = [tdata_x1, tdata_y1]"
   ]
  },
  {
   "cell_type": "code",
   "execution_count": 15,
   "metadata": {},
   "outputs": [],
   "source": [
    "val_year = {}\n",
    "for fold in range(0, 5):\n",
    "    valx = pd.read_csv(filepath_year + '/val/X_val_' + str(fold) + '.csv')\n",
    "    valx = valx.drop(columns=['Unnamed: 0'], axis=1)\n",
    "    val_y = pd.read_csv(filepath_year + '/val/y_val_' + str(fold) + '.csv')\n",
    "    val_y = val_y.drop(columns=['Unnamed: 0'], axis=1)\n",
    "\n",
    "    val_year[fold] = [valx, val_y]"
   ]
  },
  {
   "cell_type": "markdown",
   "metadata": {},
   "source": [
    "## Finding Proportion of Country Income Levels"
   ]
  },
  {
   "cell_type": "code",
   "execution_count": 16,
   "metadata": {},
   "outputs": [
    {
     "name": "stdout",
     "output_type": "stream",
     "text": [
      "for split by income data, with no missing data thresholding\n",
      "                 0    1    2    3     4\n",
      "Lowest          58   53   59   45    57\n",
      "Lower-Middle   214  191  232  234   241\n",
      "Upper-Middle   718  780  741  722   623\n",
      "Highest       1007  973  966  997  1077\n"
     ]
    }
   ],
   "source": [
    "income_levels_size = pd.DataFrame(index=['Lowest', 'Lower-Middle', 'Upper-Middle', 'Highest'], columns=[0, 1, 2, 3, 4])\n",
    "\n",
    "for fold in range(0, 5):\n",
    "    train_data = train_inc[fold][0]\n",
    "    train_grouped = train_data.groupby('income_num').size()\n",
    "    income_levels_size.at['Lowest', fold] = train_grouped.iloc[0]\n",
    "    income_levels_size.at['Lower-Middle', fold] = train_grouped.iloc[1]\n",
    "    income_levels_size.at['Upper-Middle', fold] = train_grouped.iloc[2]\n",
    "    income_levels_size.at['Highest', fold] = train_grouped.iloc[3]\n",
    "\n",
    "print('for split by income data, with no missing data thresholding')\n",
    "print(income_levels_size)"
   ]
  },
  {
   "cell_type": "code",
   "execution_count": 17,
   "metadata": {},
   "outputs": [
    {
     "ename": "NameError",
     "evalue": "name 'train' is not defined",
     "output_type": "error",
     "traceback": [
      "\u001b[0;31m---------------------------------------------------------------------------\u001b[0m",
      "\u001b[0;31mNameError\u001b[0m                                 Traceback (most recent call last)",
      "Cell \u001b[0;32mIn[17], line 4\u001b[0m\n\u001b[1;32m      1\u001b[0m income_levels_size_85 \u001b[38;5;241m=\u001b[39m pd\u001b[38;5;241m.\u001b[39mDataFrame(index\u001b[38;5;241m=\u001b[39m[\u001b[38;5;124m'\u001b[39m\u001b[38;5;124mLowest\u001b[39m\u001b[38;5;124m'\u001b[39m, \u001b[38;5;124m'\u001b[39m\u001b[38;5;124mLower-Middle\u001b[39m\u001b[38;5;124m'\u001b[39m, \u001b[38;5;124m'\u001b[39m\u001b[38;5;124mUpper-Middle\u001b[39m\u001b[38;5;124m'\u001b[39m, \u001b[38;5;124m'\u001b[39m\u001b[38;5;124mHighest\u001b[39m\u001b[38;5;124m'\u001b[39m], columns\u001b[38;5;241m=\u001b[39m[\u001b[38;5;241m0\u001b[39m, \u001b[38;5;241m1\u001b[39m, \u001b[38;5;241m2\u001b[39m, \u001b[38;5;241m3\u001b[39m, \u001b[38;5;241m4\u001b[39m])\n\u001b[1;32m      3\u001b[0m \u001b[38;5;28;01mfor\u001b[39;00m fold \u001b[38;5;129;01min\u001b[39;00m \u001b[38;5;28mrange\u001b[39m(\u001b[38;5;241m0\u001b[39m, \u001b[38;5;241m5\u001b[39m):\n\u001b[0;32m----> 4\u001b[0m     train_data \u001b[38;5;241m=\u001b[39m train[fold][\u001b[38;5;241m0\u001b[39m]\n\u001b[1;32m      5\u001b[0m     train_grouped \u001b[38;5;241m=\u001b[39m train_data\u001b[38;5;241m.\u001b[39mgroupby(\u001b[38;5;124m'\u001b[39m\u001b[38;5;124mincome_num\u001b[39m\u001b[38;5;124m'\u001b[39m)\u001b[38;5;241m.\u001b[39msize()\n\u001b[1;32m      6\u001b[0m     income_levels_size_85\u001b[38;5;241m.\u001b[39mat[\u001b[38;5;124m'\u001b[39m\u001b[38;5;124mLowest\u001b[39m\u001b[38;5;124m'\u001b[39m, fold] \u001b[38;5;241m=\u001b[39m train_grouped\u001b[38;5;241m.\u001b[39miloc[\u001b[38;5;241m0\u001b[39m]\n",
      "\u001b[0;31mNameError\u001b[0m: name 'train' is not defined"
     ]
    }
   ],
   "source": [
    "income_levels_size_85 = pd.DataFrame(index=['Lowest', 'Lower-Middle', 'Upper-Middle', 'Highest'], columns=[0, 1, 2, 3, 4])\n",
    "\n",
    "for fold in range(0, 5):\n",
    "    train_data = train[fold][0]\n",
    "    train_grouped = train_data.groupby('income_num').size()\n",
    "    income_levels_size_85.at['Lowest', fold] = train_grouped.iloc[0]\n",
    "    income_levels_size_85.at['Lower-Middle', fold] = train_grouped.iloc[1]\n",
    "    income_levels_size_85.at['Upper-Middle', fold] = train_grouped.iloc[2]\n",
    "    income_levels_size_85.at['Highest', fold] = train_grouped.iloc[3]\n",
    "\n",
    "print('for split by income data, with 85% missing data thresholding')\n",
    "print(income_levels_size_85)"
   ]
  },
  {
   "cell_type": "code",
   "execution_count": null,
   "metadata": {},
   "outputs": [
    {
     "name": "stdout",
     "output_type": "stream",
     "text": [
      "for split by year data, with no missing data thresholding\n",
      "                 0     1     2     3     4\n",
      "Lowest          60    53    52    63    56\n",
      "Lower-Middle   222   216   226   219   221\n",
      "Upper-Middle   737   743   739   740   745\n",
      "Highest       1049  1058  1049  1048  1048\n"
     ]
    }
   ],
   "source": [
    "year_levels_size = pd.DataFrame(index=['Lowest', 'Lower-Middle', 'Upper-Middle', 'Highest'], columns=[0, 1, 2, 3, 4])\n",
    "\n",
    "for fold in range(0, 5):\n",
    "    train_data = train_year[fold][0]\n",
    "    train_grouped = train_data.groupby('income_num').size()\n",
    "    year_levels_size.at['Lowest', fold] = train_grouped.iloc[0]\n",
    "    year_levels_size.at['Lower-Middle', fold] = train_grouped.iloc[1]\n",
    "    year_levels_size.at['Upper-Middle', fold] = train_grouped.iloc[2]\n",
    "    year_levels_size.at['Highest', fold] = train_grouped.iloc[3]\n",
    "\n",
    "print('for split by year data, with no missing data thresholding')\n",
    "print(year_levels_size)"
   ]
  },
  {
   "cell_type": "markdown",
   "metadata": {},
   "source": [
    "## Iterative Thresholding Code"
   ]
  },
  {
   "cell_type": "code",
   "execution_count": null,
   "metadata": {},
   "outputs": [],
   "source": [
    "def drop_col(dataset, threshold):\n",
    "    #excluding columns with greater than the threshold of NAN values \n",
    "    to_drop = []\n",
    "    for col in range(0, dataset.shape[1]):\n",
    "        proportion = (dataset.iloc[:,col].isnull().sum())/(dataset.shape[0])\n",
    "        if proportion > threshold:\n",
    "            to_drop.append(dataset.columns[col])\n",
    "\n",
    "    colthresh = dataset.drop(to_drop, axis=1)\n",
    "\n",
    "    colthresh = colthresh.reset_index(drop=True)\n",
    "\n",
    "    return colthresh\n",
    "\n",
    "def drop_row(dataset, threshold):\n",
    "    \n",
    "    #excluding rows with greater than the threshold of NAN values \n",
    "    to_drop = []\n",
    "    for row in range(1, dataset.shape[0]):\n",
    "        proportion = (dataset.iloc[row, :].isnull().sum())/(dataset.shape[1])\n",
    "        if proportion > threshold:\n",
    "            to_drop.append(row)\n",
    "    \n",
    "    rowthresh = dataset.drop(to_drop, axis=0, inplace=False)\n",
    "    rowthresh = rowthresh.reset_index(drop=True)\n",
    "    \n",
    "    return rowthresh"
   ]
  },
  {
   "cell_type": "code",
   "execution_count": null,
   "metadata": {},
   "outputs": [],
   "source": [
    "def total_nan_proportion(dataset):\n",
    "    total_nan = dataset.isnull().sum().sum()\n",
    "    total = dataset.shape[0] * dataset.shape[1]\n",
    "    proportion_total = total_nan/total \n",
    "    return proportion_total"
   ]
  },
  {
   "cell_type": "code",
   "execution_count": null,
   "metadata": {},
   "outputs": [],
   "source": [
    "def iterative_thresholding(dataset_to_threshold, threshold):\n",
    "    last_proportion = total_nan_proportion(dataset_to_threshold)\n",
    "    keep_going = True\n",
    "    dataset_copy = copy.deepcopy(dataset_to_threshold.reset_index())\n",
    "    changes = []\n",
    "\n",
    "    while keep_going == True:\n",
    "\n",
    "        dataset_copy = drop_row(dataset_copy, threshold)\n",
    "        dataset_copy = drop_col(dataset_copy, threshold)\n",
    "        \n",
    "        \n",
    "        current_proportion = total_nan_proportion(dataset_copy)\n",
    "        \n",
    "        #to determine whether dropping the rows and/or columns has caused other rows/columns to breach the threshold\n",
    "        breached = False\n",
    "        for col in range(0, dataset_copy.shape[1]):\n",
    "            proportion = (dataset_copy.iloc[:,col].isnull().sum())/(dataset_copy.shape[0])\n",
    "            if proportion > threshold:\n",
    "                breached = True\n",
    "        for row in range(1, dataset_copy.shape[0]):\n",
    "            proportion = (dataset_copy.iloc[row, :].isnull().sum())/(dataset_copy.shape[1])\n",
    "            if proportion > threshold:\n",
    "                breached = True\n",
    "        \n",
    "        if breached == False:\n",
    "            keep_going = False\n",
    "        else: \n",
    "            changes.append(current_proportion-last_proportion)\n",
    "            last_proportion = current_proportion \n",
    "\n",
    "    return dataset_copy#, current_proportion, changes\n"
   ]
  },
  {
   "cell_type": "markdown",
   "metadata": {},
   "source": [
    "## Scripting"
   ]
  },
  {
   "cell_type": "markdown",
   "metadata": {},
   "source": [
    "### Income"
   ]
  },
  {
   "cell_type": "markdown",
   "metadata": {},
   "source": [
    "#### train"
   ]
  },
  {
   "cell_type": "markdown",
   "metadata": {},
   "source": [
    "need to first filter folds for important data, then apply thresholding"
   ]
  },
  {
   "cell_type": "code",
   "execution_count": null,
   "metadata": {},
   "outputs": [],
   "source": [
    "low_inc = {0 : {'full' : [], 'lit' : [], 'corr_60' : [], 'corr_70' : [], 'corr_80' : []}, 1 : {'full' : [], 'lit' : [], 'corr_60' : [], 'corr_70' : [], 'corr_80' : []}, 2 : {'full' : [], 'lit' : [], 'corr_60' : [], 'corr_70' : [], 'corr_80' : []}, 3 : {'full' : [], 'lit' : [], 'corr_60' : [], 'corr_70' : [], 'corr_80' : []}, 4 : {'full' : [], 'lit' : [], 'corr_60' : [], 'corr_70' : [], 'corr_80' : []}}\n",
    "ul_inc = {0 : {'full' : [], 'lit' : [], 'corr_60' : [], 'corr_70' : [], 'corr_80' : []}, 1 : {'full' : [], 'lit' : [], 'corr_60' : [], 'corr_70' : [], 'corr_80' : []}, 2 : {'full' : [], 'lit' : [], 'corr_60' : [], 'corr_70' : [], 'corr_80' : []}, 3 : {'full' : [], 'lit' : [], 'corr_60' : [], 'corr_70' : [], 'corr_80' : []}, 4 : {'full' : [], 'lit' : [], 'corr_60' : [], 'corr_70' : [], 'corr_80' : []}}\n",
    "um_inc = {0 : {'full' : [], 'lit' : [], 'corr_60' : [], 'corr_70' : [], 'corr_80' : []}, 1 : {'full' : [], 'lit' : [], 'corr_60' : [], 'corr_70' : [], 'corr_80' : []}, 2 : {'full' : [], 'lit' : [], 'corr_60' : [], 'corr_70' : [], 'corr_80' : []}, 3 : {'full' : [], 'lit' : [], 'corr_60' : [], 'corr_70' : [], 'corr_80' : []}, 4 : {'full' : [], 'lit' : [], 'corr_60' : [], 'corr_70' : [], 'corr_80' : []}}\n",
    "high_inc = {0 : {'full' : [], 'lit' : [], 'corr_60' : [], 'corr_70' : [], 'corr_80' : []}, 1 : {'full' : [], 'lit' : [], 'corr_60' : [], 'corr_70' : [], 'corr_80' : []}, 2 : {'full' : [], 'lit' : [], 'corr_60' : [], 'corr_70' : [], 'corr_80' : []}, 3 : {'full' : [], 'lit' : [], 'corr_60' : [], 'corr_70' : [], 'corr_80' : []}, 4 : {'full' : [], 'lit' : [], 'corr_60' : [], 'corr_70' : [], 'corr_80' : []}}\n",
    "pre_inc = {0 : {'full' : [], 'lit' : [], 'corr_60' : [], 'corr_70' : [], 'corr_80' : []}, 1 : {'full' : [], 'lit' : [], 'corr_60' : [], 'corr_70' : [], 'corr_80' : []}, 2 : {'full' : [], 'lit' : [], 'corr_60' : [], 'corr_70' : [], 'corr_80' : []}, 3 : {'full' : [], 'lit' : [], 'corr_60' : [], 'corr_70' : [], 'corr_80' : []}, 4 : {'full' : [], 'lit' : [], 'corr_60' : [], 'corr_70' : [], 'corr_80' : []}}\n",
    "post_inc = {0 : {'full' : [], 'lit' : [], 'corr_60' : [], 'corr_70' : [], 'corr_80' : []}, 1 : {'full' : [], 'lit' : [], 'corr_60' : [], 'corr_70' : [], 'corr_80' : []}, 2 : {'full' : [], 'lit' : [], 'corr_60' : [], 'corr_70' : [], 'corr_80' : []}, 3 : {'full' : [], 'lit' : [], 'corr_60' : [], 'corr_70' : [], 'corr_80' : []}, 4 : {'full' : [], 'lit' : [], 'corr_60' : [], 'corr_70' : [], 'corr_80' : []}}"
   ]
  },
  {
   "cell_type": "code",
   "execution_count": null,
   "metadata": {},
   "outputs": [],
   "source": [
    "needed_thresholds = [0.85, 0.90, 0.95, 1]\n",
    "\n",
    "for fold in range(5):\n",
    "    full_feature_x = train_inc[fold][0]\n",
    "    full_feature_y = train_inc[fold][1]\n",
    "    full_feature_data = pd.concat([full_feature_x, full_feature_y], axis=1)\n",
    "\n",
    "    full_low = full_feature_data[full_feature_data['income_num'] == 1]\n",
    "    full_ul = full_feature_data[full_feature_data['income_num'] == 2]\n",
    "    full_um = full_feature_data[full_feature_data['income_num'] == 3]\n",
    "    full_high = full_feature_data[full_feature_data['income_num'] == 4]\n",
    "    full_pre = full_feature_data[full_feature_data['date'] < 2000]\n",
    "    full_post = full_feature_data[full_feature_data['date'] >= 2000]\n",
    "\n",
    "    for thresh in needed_thresholds:\n",
    "        new_datalow = iterative_thresholding(full_low, thresh)\n",
    "        new_datalow_x = new_datalow.drop(columns=['date', 'setting', 'Maternal mortality ratio (national estimate, per 100,000 live births)'])\n",
    "        new_datalow_y = new_datalow[['Maternal mortality ratio (national estimate, per 100,000 live births)']]\n",
    "        low_inc[fold]['full'].append(new_datalow_x)\n",
    "        low_inc[fold]['full'].append(new_datalow_y)\n",
    "\n",
    "        new_dataul = iterative_thresholding(full_ul, thresh)\n",
    "        new_dataul_x = new_dataul.drop(columns=['date', 'setting', 'Maternal mortality ratio (national estimate, per 100,000 live births)'])\n",
    "        new_dataul_y = new_dataul[['Maternal mortality ratio (national estimate, per 100,000 live births)']]\n",
    "        ul_inc[fold]['full'].append(new_dataul_x)\n",
    "        ul_inc[fold]['full'].append(new_dataul_y)\n",
    "\n",
    "        new_dataum = iterative_thresholding(full_um, thresh)\n",
    "        new_dataum_x = new_dataum.drop(columns=['date', 'setting', 'Maternal mortality ratio (national estimate, per 100,000 live births)'])\n",
    "        new_dataum_y = new_dataum[['Maternal mortality ratio (national estimate, per 100,000 live births)']]\n",
    "        um_inc[fold]['full'].append(new_dataum_x)\n",
    "        um_inc[fold]['full'].append(new_dataum_y)\n",
    "\n",
    "        new_datahigh = iterative_thresholding(full_high, thresh)\n",
    "        new_datahigh_x = new_datahigh.drop(columns=['date', 'setting', 'Maternal mortality ratio (national estimate, per 100,000 live births)'])\n",
    "        new_datahigh_y = new_datahigh[['Maternal mortality ratio (national estimate, per 100,000 live births)']]\n",
    "        high_inc[fold]['full'].append(new_datahigh_x)\n",
    "        high_inc[fold]['full'].append(new_datahigh_y)\n",
    "\n",
    "        new_datapre = iterative_thresholding(full_pre, thresh)\n",
    "        new_datapre_x = new_datapre.drop(columns=['date', 'setting', 'Maternal mortality ratio (national estimate, per 100,000 live births)'])\n",
    "        new_datapre_y = new_datapre[['Maternal mortality ratio (national estimate, per 100,000 live births)']]\n",
    "        pre_inc[fold]['full'].append(new_datapre_x)\n",
    "        pre_inc[fold]['full'].append(new_datapre_y)\n",
    "\n",
    "        new_datapost = iterative_thresholding(full_post, thresh)\n",
    "        new_datapost_x = new_datapost.drop(columns=['date', 'setting', 'Maternal mortality ratio (national estimate, per 100,000 live births)'])\n",
    "        new_datapost_y = new_datapost[['Maternal mortality ratio (national estimate, per 100,000 live births)']]\n",
    "        post_inc[fold]['full'].append(new_datapost_x)\n",
    "        post_inc[fold]['full'].append(new_datapost_y)"
   ]
  },
  {
   "cell_type": "code",
   "execution_count": null,
   "metadata": {},
   "outputs": [
    {
     "name": "stdout",
     "output_type": "stream",
     "text": [
      "(44, 634) (53, 1)\n",
      "(133, 652) (158, 1)\n",
      "(388, 609) (570, 1)\n",
      "(470, 575) (694, 1)\n",
      "(13, 154) (286, 1)\n",
      "(1022, 608) (1189, 1)\n"
     ]
    }
   ],
   "source": [
    "print(low_inc[1]['full'][0].shape, low_inc[1]['full'][3].shape)\n",
    "print(ul_inc[1]['full'][0].shape, ul_inc[1]['full'][3].shape)\n",
    "print(um_inc[1]['full'][0].shape, um_inc[1]['full'][3].shape)\n",
    "print(high_inc[1]['full'][0].shape, high_inc[1]['full'][3].shape)\n",
    "print(pre_inc[1]['full'][0].shape, pre_inc[1]['full'][3].shape)\n",
    "print(post_inc[1]['full'][0].shape, post_inc[1]['full'][3].shape)"
   ]
  },
  {
   "cell_type": "code",
   "execution_count": null,
   "metadata": {},
   "outputs": [],
   "source": [
    "needed_thresholds = [0.85, 0.90, 0.95, 1]\n",
    "\n",
    "for fold in range(5):\n",
    "    full_feature_x = train_inc[fold][0]\n",
    "    lit_subsetx = full_feature_x[full_feature_x.columns.intersection(list(useful_features))]\n",
    "    full_feature_y = train_inc[fold][1]\n",
    "    data = pd.concat([lit_subsetx, full_feature_y], axis=1)\n",
    "\n",
    "    full_low = data[data['income_num'] == 1]\n",
    "    full_ul = data[data['income_num'] == 2]\n",
    "    full_um = data[data['income_num'] == 3]\n",
    "    full_high = data[data['income_num'] == 4]\n",
    "    full_pre = data[data['date'] < 2000]\n",
    "    full_post = data[data['date'] >= 2000]\n",
    "\n",
    "    for thresh in needed_thresholds:\n",
    "        new_datalow = iterative_thresholding(full_low, thresh)\n",
    "        new_datalow_x = new_datalow.drop(columns=['date', 'Maternal mortality ratio (national estimate, per 100,000 live births)'])\n",
    "        new_datalow_y = new_datalow[['Maternal mortality ratio (national estimate, per 100,000 live births)']]\n",
    "        low_inc[fold]['lit'].append(new_datalow_x)\n",
    "        low_inc[fold]['lit'].append(new_datalow_y)\n",
    "\n",
    "        new_dataul = iterative_thresholding(full_ul, thresh)\n",
    "        new_dataul_x = new_dataul.drop(columns=['date', 'Maternal mortality ratio (national estimate, per 100,000 live births)'])\n",
    "        new_dataul_y = new_dataul[['Maternal mortality ratio (national estimate, per 100,000 live births)']]\n",
    "        ul_inc[fold]['lit'].append(new_dataul_x)\n",
    "        ul_inc[fold]['lit'].append(new_dataul_y)\n",
    "\n",
    "        new_dataum = iterative_thresholding(full_um, thresh)\n",
    "        new_dataum_x = new_dataum.drop(columns=['date', 'Maternal mortality ratio (national estimate, per 100,000 live births)'])\n",
    "        new_dataum_y = new_dataum[['Maternal mortality ratio (national estimate, per 100,000 live births)']]\n",
    "        um_inc[fold]['lit'].append(new_dataum_x)\n",
    "        um_inc[fold]['lit'].append(new_dataum_y)\n",
    "\n",
    "        new_datahigh = iterative_thresholding(full_high, thresh)\n",
    "        new_datahigh_x = new_datahigh.drop(columns=['date', 'Maternal mortality ratio (national estimate, per 100,000 live births)'])\n",
    "        new_datahigh_y = new_datahigh[['Maternal mortality ratio (national estimate, per 100,000 live births)']]\n",
    "        high_inc[fold]['lit'].append(new_datahigh_x)\n",
    "        high_inc[fold]['lit'].append(new_datahigh_y)\n",
    "\n",
    "        new_datapre = iterative_thresholding(full_pre, thresh)\n",
    "        new_datapre_x = new_datapre.drop(columns=['date', 'Maternal mortality ratio (national estimate, per 100,000 live births)'])\n",
    "        new_datapre_y = new_datapre[['Maternal mortality ratio (national estimate, per 100,000 live births)']]\n",
    "        pre_inc[fold]['lit'].append(new_datapre_x)\n",
    "        pre_inc[fold]['lit'].append(new_datapre_y)\n",
    "\n",
    "        new_datapost = iterative_thresholding(full_post, thresh)\n",
    "        new_datapost_x = new_datapost.drop(columns=['date', 'Maternal mortality ratio (national estimate, per 100,000 live births)'])\n",
    "        new_datapost_y = new_datapost[['Maternal mortality ratio (national estimate, per 100,000 live births)']]\n",
    "        post_inc[fold]['lit'].append(new_datapost_x)\n",
    "        post_inc[fold]['lit'].append(new_datapost_y)"
   ]
  },
  {
   "cell_type": "code",
   "execution_count": null,
   "metadata": {},
   "outputs": [],
   "source": [
    "needed_thresholds = [0.85, 0.90, 0.95, 1]\n",
    "\n",
    "for fold in range(5):\n",
    "    full_feature_x = train_inc[fold][0]\n",
    "    full_feature_y = train_inc[fold][1]\n",
    "\n",
    "    for idx, corr in enumerate([corr_60, corr_70, corr_80]):\n",
    "        feature_list = list(corr)\n",
    "        feature_list.append('date')\n",
    "        feature_list.append('income_num')\n",
    "        corr_subsetx = full_feature_x[full_feature_x.columns.intersection(feature_list)]\n",
    "        data = pd.concat([corr_subsetx, full_feature_y], axis=1)\n",
    "\n",
    "        full_low = data[data['income_num'] == 1]\n",
    "        full_ul = data[data['income_num'] == 2]\n",
    "        full_um = data[data['income_num'] == 3]\n",
    "        full_high = data[data['income_num'] == 4]\n",
    "        full_pre = data[data['date'] < 2000]\n",
    "        full_post = data[data['date'] >= 2000]\n",
    "\n",
    "        if idx == 0:\n",
    "            name = 'corr_60'\n",
    "        elif idx == 1:\n",
    "            name = 'corr_70'\n",
    "        elif idx == 2:\n",
    "            name = 'corr_80'\n",
    "\n",
    "        for thresh in needed_thresholds:\n",
    "            new_datalow = iterative_thresholding(full_low, thresh)\n",
    "            new_datalow_x = new_datalow.drop(columns=['date', 'income_num', 'Maternal mortality ratio (national estimate, per 100,000 live births)'])\n",
    "            new_datalow_y = new_datalow[['Maternal mortality ratio (national estimate, per 100,000 live births)']]\n",
    "            low_inc[fold][name].append(new_datalow_x)\n",
    "            low_inc[fold][name].append(new_datalow_y)\n",
    "\n",
    "            new_dataul = iterative_thresholding(full_ul, thresh)\n",
    "            new_dataul_x = new_dataul.drop(columns=['date', 'income_num', 'Maternal mortality ratio (national estimate, per 100,000 live births)'])\n",
    "            new_dataul_y = new_dataul[['Maternal mortality ratio (national estimate, per 100,000 live births)']]\n",
    "            ul_inc[fold][name].append(new_dataul_x)\n",
    "            ul_inc[fold][name].append(new_dataul_y)\n",
    "\n",
    "            new_dataum = iterative_thresholding(full_um, thresh)\n",
    "            new_dataum_x = new_dataum.drop(columns=['date','income_num', 'Maternal mortality ratio (national estimate, per 100,000 live births)'])\n",
    "            new_dataum_y = new_dataum[['Maternal mortality ratio (national estimate, per 100,000 live births)']]\n",
    "            um_inc[fold][name].append(new_dataum_x)\n",
    "            um_inc[fold][name].append(new_dataum_y)\n",
    "\n",
    "            new_datahigh = iterative_thresholding(full_high, thresh)\n",
    "            new_datahigh_x = new_datahigh.drop(columns=['date','income_num', 'Maternal mortality ratio (national estimate, per 100,000 live births)'])\n",
    "            new_datahigh_y = new_datahigh[['Maternal mortality ratio (national estimate, per 100,000 live births)']]\n",
    "            high_inc[fold][name].append(new_datahigh_x)\n",
    "            high_inc[fold][name].append(new_datahigh_y)\n",
    "\n",
    "            new_datapre = iterative_thresholding(full_pre, thresh)\n",
    "            new_datapre_x = new_datapre.drop(columns=['date','income_num', 'Maternal mortality ratio (national estimate, per 100,000 live births)'])\n",
    "            new_datapre_y = new_datapre[['Maternal mortality ratio (national estimate, per 100,000 live births)']]\n",
    "            pre_inc[fold][name].append(new_datapre_x)\n",
    "            pre_inc[fold][name].append(new_datapre_y)\n",
    "\n",
    "            new_datapost = iterative_thresholding(full_post, thresh)\n",
    "            new_datapost_x = new_datapost.drop(columns=['date','income_num', 'Maternal mortality ratio (national estimate, per 100,000 live births)'])\n",
    "            new_datapost_y = new_datapost[['Maternal mortality ratio (national estimate, per 100,000 live births)']]\n",
    "            post_inc[fold][name].append(new_datapost_x)\n",
    "            post_inc[fold][name].append(new_datapost_y)"
   ]
  },
  {
   "cell_type": "code",
   "execution_count": null,
   "metadata": {},
   "outputs": [
    {
     "name": "stdout",
     "output_type": "stream",
     "text": [
      "(53, 106)\n"
     ]
    }
   ],
   "source": [
    "print(low_inc[1]['corr_60'][0].shape)"
   ]
  },
  {
   "cell_type": "code",
   "execution_count": null,
   "metadata": {},
   "outputs": [
    {
     "data": {
      "text/plain": [
       "['country_data/post_inc.pkl']"
      ]
     },
     "execution_count": 197,
     "metadata": {},
     "output_type": "execute_result"
    }
   ],
   "source": [
    "joblib.dump(low_inc, f\"country_data/low_inc.pkl\")\n",
    "joblib.dump(ul_inc, f\"country_data/lowermid_inc.pkl\")\n",
    "joblib.dump(um_inc, f\"country_data/uppermid_inc.pkl\")\n",
    "joblib.dump(high_inc, f\"country_data/high_inc.pkl\")\n",
    "joblib.dump(pre_inc, f\"country_data/pre_inc.pkl\")\n",
    "joblib.dump(post_inc, f\"country_data/post_inc.pkl\")"
   ]
  },
  {
   "cell_type": "markdown",
   "metadata": {},
   "source": [
    "#### Val and Test"
   ]
  },
  {
   "cell_type": "code",
   "execution_count": 18,
   "metadata": {},
   "outputs": [],
   "source": [
    "val_low_inc = {0 : [], 1 : [], 2 : [], 3 : [], 4 : []}\n",
    "val_ul_inc = {0 : [], 1 : [], 2 : [], 3 : [], 4 : []}\n",
    "val_um_inc = {0 : [], 1 : [], 2 : [], 3 : [], 4 : []}\n",
    "val_high_inc = {0 : [], 1 : [], 2 : [], 3 : [], 4 : []}\n",
    "val_pre_inc = {0 : [], 1 : [], 2 : [], 3 : [], 4 : []}\n",
    "val_post_inc = {0 : [], 1 : [], 2 : [], 3 : [], 4 : []}"
   ]
  },
  {
   "cell_type": "code",
   "execution_count": 19,
   "metadata": {},
   "outputs": [],
   "source": [
    "for fold in range(5):\n",
    "    full_feature_x = val_inc[fold][0]\n",
    "    full_feature_y = val_inc[fold][1]\n",
    "    data = pd.concat([full_feature_x, full_feature_y], axis=1)\n",
    "\n",
    "    full_low = data[data['income_num'] == 1]\n",
    "    full_ul = data[data['income_num'] == 2]\n",
    "    full_um = data[data['income_num'] == 3]\n",
    "    full_high = data[data['income_num'] == 4]\n",
    "    full_pre = data[data['date'] < 2000]\n",
    "    full_post = data[data['date'] >= 2000]\n",
    "\n",
    "    full_low_x = full_low.drop(columns=['date', 'setting', 'Maternal mortality ratio (national estimate, per 100,000 live births)'])\n",
    "    full_low_y = full_low[['Maternal mortality ratio (national estimate, per 100,000 live births)']]\n",
    "    val_low_inc[fold].append(full_low_x)\n",
    "    val_low_inc[fold].append(full_low_y)\n",
    "\n",
    "    full_ul_x = full_ul.drop(columns=['date', 'setting', 'Maternal mortality ratio (national estimate, per 100,000 live births)'])\n",
    "    full_ul_y = full_ul[['Maternal mortality ratio (national estimate, per 100,000 live births)']]\n",
    "    val_ul_inc[fold].append(full_ul_x)\n",
    "    val_ul_inc[fold].append(full_ul_y)\n",
    "\n",
    "    full_um_x = full_um.drop(columns=['date', 'setting', 'Maternal mortality ratio (national estimate, per 100,000 live births)'])\n",
    "    full_um_y = full_um[['Maternal mortality ratio (national estimate, per 100,000 live births)']]\n",
    "    val_um_inc[fold].append(full_um_x)\n",
    "    val_um_inc[fold].append(full_um_y)\n",
    "\n",
    "    full_high_x = full_high.drop(columns=['date', 'setting', 'Maternal mortality ratio (national estimate, per 100,000 live births)'])\n",
    "    full_high_y = full_high[['Maternal mortality ratio (national estimate, per 100,000 live births)']]\n",
    "    val_high_inc[fold].append(full_high_x)\n",
    "    val_high_inc[fold].append(full_high_y)\n",
    "\n",
    "    full_pre_x = full_pre.drop(columns=['date', 'setting', 'Maternal mortality ratio (national estimate, per 100,000 live births)'])\n",
    "    full_pre_y = full_pre[['Maternal mortality ratio (national estimate, per 100,000 live births)']]\n",
    "    val_pre_inc[fold].append(full_pre_x)\n",
    "    val_pre_inc[fold].append(full_pre_y)\n",
    "\n",
    "    full_post_x = full_post.drop(columns=['date', 'setting', 'Maternal mortality ratio (national estimate, per 100,000 live births)'])\n",
    "    full_post_y = full_post[['Maternal mortality ratio (national estimate, per 100,000 live births)']]\n",
    "    val_post_inc[fold].append(full_post_x)\n",
    "    val_post_inc[fold].append(full_post_y)\n",
    "        "
   ]
  },
  {
   "cell_type": "code",
   "execution_count": 20,
   "metadata": {},
   "outputs": [
    {
     "data": {
      "text/plain": [
       "['country_data/val_post_inc.pkl']"
      ]
     },
     "execution_count": 20,
     "metadata": {},
     "output_type": "execute_result"
    }
   ],
   "source": [
    "joblib.dump(val_low_inc, f\"country_data/val_low_inc.pkl\")\n",
    "joblib.dump(val_ul_inc, f\"country_data/val_lowermid_inc.pkl\")\n",
    "joblib.dump(val_um_inc, f\"country_data/val_uppermid_inc.pkl\")\n",
    "joblib.dump(val_high_inc, f\"country_data/val_high_inc.pkl\")\n",
    "joblib.dump(val_pre_inc, f\"country_data/val_pre_inc.pkl\")\n",
    "joblib.dump(val_post_inc, f\"country_data/val_post_inc.pkl\")"
   ]
  },
  {
   "cell_type": "code",
   "execution_count": 21,
   "metadata": {},
   "outputs": [],
   "source": [
    "test_low_inc = []\n",
    "test_ul_inc = []\n",
    "test_um_inc = []\n",
    "test_high_inc = []\n",
    "test_pre_inc = []\n",
    "test_post_inc = []"
   ]
  },
  {
   "cell_type": "code",
   "execution_count": 22,
   "metadata": {},
   "outputs": [],
   "source": [
    "test_data = pd.concat([test_incx, test_incy], axis=1)\n",
    "\n",
    "test_full_low = test_data[test_data['income_num'] == 1]\n",
    "test_full_ul = test_data[test_data['income_num'] == 2]\n",
    "test_full_um = test_data[test_data['income_num'] == 3]\n",
    "test_full_high = test_data[test_data['income_num'] == 4]\n",
    "test_full_pre = test_data[test_data['date'] < 2000]\n",
    "test_full_post = test_data[test_data['date'] >= 2000]\n",
    "\n",
    "test_full_low_x = test_full_low.drop(columns=['date', 'setting', 'Maternal mortality ratio (national estimate, per 100,000 live births)'])\n",
    "test_full_low_y = test_full_low[['Maternal mortality ratio (national estimate, per 100,000 live births)']]\n",
    "test_low_inc.append(test_full_low_x)\n",
    "test_low_inc.append(test_full_low_y)\n",
    "\n",
    "test_full_ul_x = test_full_ul.drop(columns=['date', 'setting', 'Maternal mortality ratio (national estimate, per 100,000 live births)'])\n",
    "test_full_ul_y = test_full_ul[['Maternal mortality ratio (national estimate, per 100,000 live births)']]\n",
    "test_ul_inc.append(test_full_ul_x)\n",
    "test_ul_inc.append(test_full_ul_y)\n",
    "\n",
    "test_full_um_x = test_full_um.drop(columns=['date', 'setting', 'Maternal mortality ratio (national estimate, per 100,000 live births)'])\n",
    "test_full_um_y = test_full_um[['Maternal mortality ratio (national estimate, per 100,000 live births)']]\n",
    "test_um_inc.append(test_full_um_x)\n",
    "test_um_inc.append(test_full_um_y)\n",
    "\n",
    "test_full_high_x = test_full_high.drop(columns=['date', 'setting', 'Maternal mortality ratio (national estimate, per 100,000 live births)'])\n",
    "test_full_high_y = test_full_high[['Maternal mortality ratio (national estimate, per 100,000 live births)']]\n",
    "test_high_inc.append(test_full_high_x)\n",
    "test_high_inc.append(test_full_high_y)\n",
    "\n",
    "test_full_pre_x = test_full_pre.drop(columns=['date', 'setting', 'Maternal mortality ratio (national estimate, per 100,000 live births)'])\n",
    "test_full_pre_y = test_full_pre[['Maternal mortality ratio (national estimate, per 100,000 live births)']]\n",
    "test_pre_inc.append(test_full_pre_x)\n",
    "test_pre_inc.append(test_full_pre_y)\n",
    "\n",
    "test_full_post_x = test_full_post.drop(columns=['date', 'setting', 'Maternal mortality ratio (national estimate, per 100,000 live births)'])\n",
    "test_full_post_y = test_full_post[['Maternal mortality ratio (national estimate, per 100,000 live births)']]\n",
    "test_post_inc.append(test_full_post_x)\n",
    "test_post_inc.append(test_full_post_y)"
   ]
  },
  {
   "cell_type": "code",
   "execution_count": 30,
   "metadata": {},
   "outputs": [
    {
     "data": {
      "text/plain": [
       "['country_data/test_post_inc.pkl']"
      ]
     },
     "execution_count": 30,
     "metadata": {},
     "output_type": "execute_result"
    }
   ],
   "source": [
    "joblib.dump(test_low_inc, f\"country_data/test_low_inc.pkl\")\n",
    "joblib.dump(test_ul_inc, f\"country_data/test_ul_inc.pkl\")\n",
    "joblib.dump(test_um_inc, f\"country_data/test_um_inc.pkl\")\n",
    "joblib.dump(test_high_inc, f\"country_data/test_high_inc.pkl\")\n",
    "joblib.dump(test_pre_inc, f\"country_data/test_pre_inc.pkl\")\n",
    "joblib.dump(test_post_inc, f\"country_data/test_post_inc.pkl\")"
   ]
  },
  {
   "cell_type": "markdown",
   "metadata": {},
   "source": [
    "### Year"
   ]
  },
  {
   "cell_type": "markdown",
   "metadata": {},
   "source": [
    "##### Train"
   ]
  },
  {
   "cell_type": "code",
   "execution_count": 198,
   "metadata": {},
   "outputs": [],
   "source": [
    "low_year = {0 : {'full' : [], 'lit' : [], 'corr_60' : [], 'corr_70' : [], 'corr_80' : []}, 1 : {'full' : [], 'lit' : [], 'corr_60' : [], 'corr_70' : [], 'corr_80' : []}, 2 : {'full' : [], 'lit' : [], 'corr_60' : [], 'corr_70' : [], 'corr_80' : []}, 3 : {'full' : [], 'lit' : [], 'corr_60' : [], 'corr_70' : [], 'corr_80' : []}, 4 : {'full' : [], 'lit' : [], 'corr_60' : [], 'corr_70' : [], 'corr_80' : []}}\n",
    "ul_year = {0 : {'full' : [], 'lit' : [], 'corr_60' : [], 'corr_70' : [], 'corr_80' : []}, 1 : {'full' : [], 'lit' : [], 'corr_60' : [], 'corr_70' : [], 'corr_80' : []}, 2 : {'full' : [], 'lit' : [], 'corr_60' : [], 'corr_70' : [], 'corr_80' : []}, 3 : {'full' : [], 'lit' : [], 'corr_60' : [], 'corr_70' : [], 'corr_80' : []}, 4 : {'full' : [], 'lit' : [], 'corr_60' : [], 'corr_70' : [], 'corr_80' : []}}\n",
    "um_year = {0 : {'full' : [], 'lit' : [], 'corr_60' : [], 'corr_70' : [], 'corr_80' : []}, 1 : {'full' : [], 'lit' : [], 'corr_60' : [], 'corr_70' : [], 'corr_80' : []}, 2 : {'full' : [], 'lit' : [], 'corr_60' : [], 'corr_70' : [], 'corr_80' : []}, 3 : {'full' : [], 'lit' : [], 'corr_60' : [], 'corr_70' : [], 'corr_80' : []}, 4 : {'full' : [], 'lit' : [], 'corr_60' : [], 'corr_70' : [], 'corr_80' : []}}\n",
    "high_year = {0 : {'full' : [], 'lit' : [], 'corr_60' : [], 'corr_70' : [], 'corr_80' : []}, 1 : {'full' : [], 'lit' : [], 'corr_60' : [], 'corr_70' : [], 'corr_80' : []}, 2 : {'full' : [], 'lit' : [], 'corr_60' : [], 'corr_70' : [], 'corr_80' : []}, 3 : {'full' : [], 'lit' : [], 'corr_60' : [], 'corr_70' : [], 'corr_80' : []}, 4 : {'full' : [], 'lit' : [], 'corr_60' : [], 'corr_70' : [], 'corr_80' : []}}\n",
    "pre_year = {0 : {'full' : [], 'lit' : [], 'corr_60' : [], 'corr_70' : [], 'corr_80' : []}, 1 : {'full' : [], 'lit' : [], 'corr_60' : [], 'corr_70' : [], 'corr_80' : []}, 2 : {'full' : [], 'lit' : [], 'corr_60' : [], 'corr_70' : [], 'corr_80' : []}, 3 : {'full' : [], 'lit' : [], 'corr_60' : [], 'corr_70' : [], 'corr_80' : []}, 4 : {'full' : [], 'lit' : [], 'corr_60' : [], 'corr_70' : [], 'corr_80' : []}}\n",
    "post_year = {0 : {'full' : [], 'lit' : [], 'corr_60' : [], 'corr_70' : [], 'corr_80' : []}, 1 : {'full' : [], 'lit' : [], 'corr_60' : [], 'corr_70' : [], 'corr_80' : []}, 2 : {'full' : [], 'lit' : [], 'corr_60' : [], 'corr_70' : [], 'corr_80' : []}, 3 : {'full' : [], 'lit' : [], 'corr_60' : [], 'corr_70' : [], 'corr_80' : []}, 4 : {'full' : [], 'lit' : [], 'corr_60' : [], 'corr_70' : [], 'corr_80' : []}}"
   ]
  },
  {
   "cell_type": "code",
   "execution_count": 199,
   "metadata": {},
   "outputs": [],
   "source": [
    "needed_thresholds = [0.85, 0.90, 0.95, 1]\n",
    "\n",
    "for fold in range(5):\n",
    "    full_feature_x = train_year[fold][0]\n",
    "    full_feature_y = train_year[fold][1]\n",
    "    full_feature_data = pd.concat([full_feature_x, full_feature_y], axis=1)\n",
    "\n",
    "    full_low = full_feature_data[full_feature_data['income_num'] == 1]\n",
    "    full_ul = full_feature_data[full_feature_data['income_num'] == 2]\n",
    "    full_um = full_feature_data[full_feature_data['income_num'] == 3]\n",
    "    full_high = full_feature_data[full_feature_data['income_num'] == 4]\n",
    "    full_pre = full_feature_data[full_feature_data['date'] < 2000]\n",
    "    full_post = full_feature_data[full_feature_data['date'] >= 2000]\n",
    "\n",
    "    for thresh in needed_thresholds:\n",
    "        new_datalow = iterative_thresholding(full_low, thresh)\n",
    "        new_datalow_x = new_datalow.drop(columns=['date', 'setting', 'Maternal mortality ratio (national estimate, per 100,000 live births)'])\n",
    "        new_datalow_y = new_datalow[['Maternal mortality ratio (national estimate, per 100,000 live births)']]\n",
    "        low_year[fold]['full'].append(new_datalow_x)\n",
    "        low_year[fold]['full'].append(new_datalow_y)\n",
    "\n",
    "        new_dataul = iterative_thresholding(full_ul, thresh)\n",
    "        new_dataul_x = new_dataul.drop(columns=['date', 'setting', 'Maternal mortality ratio (national estimate, per 100,000 live births)'])\n",
    "        new_dataul_y = new_dataul[['Maternal mortality ratio (national estimate, per 100,000 live births)']]\n",
    "        ul_year[fold]['full'].append(new_dataul_x)\n",
    "        ul_year[fold]['full'].append(new_dataul_y)\n",
    "\n",
    "        new_dataum = iterative_thresholding(full_um, thresh)\n",
    "        new_dataum_x = new_dataum.drop(columns=['date', 'setting', 'Maternal mortality ratio (national estimate, per 100,000 live births)'])\n",
    "        new_dataum_y = new_dataum[['Maternal mortality ratio (national estimate, per 100,000 live births)']]\n",
    "        um_year[fold]['full'].append(new_dataum_x)\n",
    "        um_year[fold]['full'].append(new_dataum_y)\n",
    "\n",
    "        new_datahigh = iterative_thresholding(full_high, thresh)\n",
    "        new_datahigh_x = new_datahigh.drop(columns=['date', 'setting', 'Maternal mortality ratio (national estimate, per 100,000 live births)'])\n",
    "        new_datahigh_y = new_datahigh[['Maternal mortality ratio (national estimate, per 100,000 live births)']]\n",
    "        high_year[fold]['full'].append(new_datahigh_x)\n",
    "        high_year[fold]['full'].append(new_datahigh_y)\n",
    "\n",
    "        new_datapre = iterative_thresholding(full_pre, thresh)\n",
    "        new_datapre_x = new_datapre.drop(columns=['date', 'setting', 'Maternal mortality ratio (national estimate, per 100,000 live births)'])\n",
    "        new_datapre_y = new_datapre[['Maternal mortality ratio (national estimate, per 100,000 live births)']]\n",
    "        pre_year[fold]['full'].append(new_datapre_x)\n",
    "        pre_year[fold]['full'].append(new_datapre_y)\n",
    "\n",
    "        new_datapost = iterative_thresholding(full_post, thresh)\n",
    "        new_datapost_x = new_datapost.drop(columns=['date', 'setting', 'Maternal mortality ratio (national estimate, per 100,000 live births)'])\n",
    "        new_datapost_y = new_datapost[['Maternal mortality ratio (national estimate, per 100,000 live births)']]\n",
    "        post_year[fold]['full'].append(new_datapost_x)\n",
    "        post_year[fold]['full'].append(new_datapost_y)"
   ]
  },
  {
   "cell_type": "code",
   "execution_count": 200,
   "metadata": {},
   "outputs": [],
   "source": [
    "needed_thresholds = [0.85, 0.90, 0.95, 1]\n",
    "\n",
    "for fold in range(5):\n",
    "    full_feature_x = train_year[fold][0]\n",
    "    lit_subsetx = full_feature_x[full_feature_x.columns.intersection(list(useful_features))]\n",
    "    full_feature_y = train_year[fold][1]\n",
    "    data = pd.concat([lit_subsetx, full_feature_y], axis=1)\n",
    "\n",
    "    full_low = data[data['income_num'] == 1]\n",
    "    full_ul = data[data['income_num'] == 2]\n",
    "    full_um = data[data['income_num'] == 3]\n",
    "    full_high = data[data['income_num'] == 4]\n",
    "    full_pre = data[data['date'] < 2000]\n",
    "    full_post = data[data['date'] >= 2000]\n",
    "\n",
    "    for thresh in needed_thresholds:\n",
    "        new_datalow = iterative_thresholding(full_low, thresh)\n",
    "        new_datalow_x = new_datalow.drop(columns=['date', 'Maternal mortality ratio (national estimate, per 100,000 live births)'])\n",
    "        new_datalow_y = new_datalow[['Maternal mortality ratio (national estimate, per 100,000 live births)']]\n",
    "        low_year[fold]['lit'].append(new_datalow_x)\n",
    "        low_year[fold]['lit'].append(new_datalow_y)\n",
    "\n",
    "        new_dataul = iterative_thresholding(full_ul, thresh)\n",
    "        new_dataul_x = new_dataul.drop(columns=['date', 'Maternal mortality ratio (national estimate, per 100,000 live births)'])\n",
    "        new_dataul_y = new_dataul[['Maternal mortality ratio (national estimate, per 100,000 live births)']]\n",
    "        ul_year[fold]['lit'].append(new_dataul_x)\n",
    "        ul_year[fold]['lit'].append(new_dataul_y)\n",
    "\n",
    "        new_dataum = iterative_thresholding(full_um, thresh)\n",
    "        new_dataum_x = new_dataum.drop(columns=['date', 'Maternal mortality ratio (national estimate, per 100,000 live births)'])\n",
    "        new_dataum_y = new_dataum[['Maternal mortality ratio (national estimate, per 100,000 live births)']]\n",
    "        um_year[fold]['lit'].append(new_dataum_x)\n",
    "        um_year[fold]['lit'].append(new_dataum_y)\n",
    "\n",
    "        new_datahigh = iterative_thresholding(full_high, thresh)\n",
    "        new_datahigh_x = new_datahigh.drop(columns=['date', 'Maternal mortality ratio (national estimate, per 100,000 live births)'])\n",
    "        new_datahigh_y = new_datahigh[['Maternal mortality ratio (national estimate, per 100,000 live births)']]\n",
    "        high_year[fold]['lit'].append(new_datahigh_x)\n",
    "        high_year[fold]['lit'].append(new_datahigh_y)\n",
    "\n",
    "        new_datapre = iterative_thresholding(full_pre, thresh)\n",
    "        new_datapre_x = new_datapre.drop(columns=['date', 'Maternal mortality ratio (national estimate, per 100,000 live births)'])\n",
    "        new_datapre_y = new_datapre[['Maternal mortality ratio (national estimate, per 100,000 live births)']]\n",
    "        pre_year[fold]['lit'].append(new_datapre_x)\n",
    "        pre_year[fold]['lit'].append(new_datapre_y)\n",
    "\n",
    "        new_datapost = iterative_thresholding(full_post, thresh)\n",
    "        new_datapost_x = new_datapost.drop(columns=['date', 'Maternal mortality ratio (national estimate, per 100,000 live births)'])\n",
    "        new_datapost_y = new_datapost[['Maternal mortality ratio (national estimate, per 100,000 live births)']]\n",
    "        post_year[fold]['lit'].append(new_datapost_x)\n",
    "        post_year[fold]['lit'].append(new_datapost_y)"
   ]
  },
  {
   "cell_type": "code",
   "execution_count": 201,
   "metadata": {},
   "outputs": [],
   "source": [
    "needed_thresholds = [0.85, 0.90, 0.95, 1]\n",
    "\n",
    "for fold in range(5):\n",
    "    full_feature_x = train_year[fold][0]\n",
    "    full_feature_y = train_year[fold][1]\n",
    "\n",
    "    for idx, corr in enumerate([corr_60, corr_70, corr_80]):\n",
    "        feature_list = list(corr)\n",
    "        feature_list.append('date')\n",
    "        feature_list.append('income_num')\n",
    "        corr_subsetx = full_feature_x[full_feature_x.columns.intersection(feature_list)]\n",
    "        data = pd.concat([corr_subsetx, full_feature_y], axis=1)\n",
    "\n",
    "        full_low = data[data['income_num'] == 1]\n",
    "        full_ul = data[data['income_num'] == 2]\n",
    "        full_um = data[data['income_num'] == 3]\n",
    "        full_high = data[data['income_num'] == 4]\n",
    "        full_pre = data[data['date'] < 2000]\n",
    "        full_post = data[data['date'] >= 2000]\n",
    "\n",
    "        if idx == 0:\n",
    "            name = 'corr_60'\n",
    "        elif idx == 1:\n",
    "            name = 'corr_70'\n",
    "        elif idx == 2:\n",
    "            name = 'corr_80'\n",
    "\n",
    "        for thresh in needed_thresholds:\n",
    "            new_datalow = iterative_thresholding(full_low, thresh)\n",
    "            new_datalow_x = new_datalow.drop(columns=['date', 'income_num', 'Maternal mortality ratio (national estimate, per 100,000 live births)'])\n",
    "            new_datalow_y = new_datalow[['Maternal mortality ratio (national estimate, per 100,000 live births)']]\n",
    "            low_year[fold][name].append(new_datalow_x)\n",
    "            low_year[fold][name].append(new_datalow_y)\n",
    "\n",
    "            new_dataul = iterative_thresholding(full_ul, thresh)\n",
    "            new_dataul_x = new_dataul.drop(columns=['date', 'income_num', 'Maternal mortality ratio (national estimate, per 100,000 live births)'])\n",
    "            new_dataul_y = new_dataul[['Maternal mortality ratio (national estimate, per 100,000 live births)']]\n",
    "            ul_year[fold][name].append(new_dataul_x)\n",
    "            ul_year[fold][name].append(new_dataul_y)\n",
    "\n",
    "            new_dataum = iterative_thresholding(full_um, thresh)\n",
    "            new_dataum_x = new_dataum.drop(columns=['date','income_num', 'Maternal mortality ratio (national estimate, per 100,000 live births)'])\n",
    "            new_dataum_y = new_dataum[['Maternal mortality ratio (national estimate, per 100,000 live births)']]\n",
    "            um_year[fold][name].append(new_dataum_x)\n",
    "            um_year[fold][name].append(new_dataum_y)\n",
    "\n",
    "            new_datahigh = iterative_thresholding(full_high, thresh)\n",
    "            new_datahigh_x = new_datahigh.drop(columns=['date','income_num', 'Maternal mortality ratio (national estimate, per 100,000 live births)'])\n",
    "            new_datahigh_y = new_datahigh[['Maternal mortality ratio (national estimate, per 100,000 live births)']]\n",
    "            high_year[fold][name].append(new_datahigh_x)\n",
    "            high_year[fold][name].append(new_datahigh_y)\n",
    "\n",
    "            new_datapre = iterative_thresholding(full_pre, thresh)\n",
    "            new_datapre_x = new_datapre.drop(columns=['date','income_num', 'Maternal mortality ratio (national estimate, per 100,000 live births)'])\n",
    "            new_datapre_y = new_datapre[['Maternal mortality ratio (national estimate, per 100,000 live births)']]\n",
    "            pre_year[fold][name].append(new_datapre_x)\n",
    "            pre_year[fold][name].append(new_datapre_y)\n",
    "\n",
    "            new_datapost = iterative_thresholding(full_post, thresh)\n",
    "            new_datapost_x = new_datapost.drop(columns=['date','income_num', 'Maternal mortality ratio (national estimate, per 100,000 live births)'])\n",
    "            new_datapost_y = new_datapost[['Maternal mortality ratio (national estimate, per 100,000 live births)']]\n",
    "            post_year[fold][name].append(new_datapost_x)\n",
    "            post_year[fold][name].append(new_datapost_y)"
   ]
  },
  {
   "cell_type": "code",
   "execution_count": 202,
   "metadata": {},
   "outputs": [
    {
     "data": {
      "text/plain": [
       "['year_data/post_year.pkl']"
      ]
     },
     "execution_count": 202,
     "metadata": {},
     "output_type": "execute_result"
    }
   ],
   "source": [
    "joblib.dump(low_year, f\"year_data/low_year.pkl\")\n",
    "joblib.dump(ul_year, f\"year_data/lowermid_year.pkl\")\n",
    "joblib.dump(um_year, f\"year_data/uppermid_year.pkl\")\n",
    "joblib.dump(high_year, f\"year_data/high_year.pkl\")\n",
    "joblib.dump(pre_year, f\"year_data/pre_year.pkl\")\n",
    "joblib.dump(post_year, f\"year_data/post_year.pkl\")"
   ]
  },
  {
   "cell_type": "markdown",
   "metadata": {},
   "source": [
    "##### Val and Test"
   ]
  },
  {
   "cell_type": "code",
   "execution_count": 24,
   "metadata": {},
   "outputs": [],
   "source": [
    "val_low_year = {0 : [], 1 : [], 2 : [], 3 : [], 4 : []}\n",
    "val_ul_year = {0 : [], 1 : [], 2 : [], 3 : [], 4 : []}\n",
    "val_um_year = {0 : [], 1 : [], 2 : [], 3 : [], 4 : []}\n",
    "val_high_year = {0 : [], 1 : [], 2 : [], 3 : [], 4 : []}\n",
    "val_pre_year = {0 : [], 1 : [], 2 : [], 3 : [], 4 : []}\n",
    "val_post_year = {0 : [], 1 : [], 2 : [], 3 : [], 4 : []}"
   ]
  },
  {
   "cell_type": "code",
   "execution_count": 25,
   "metadata": {},
   "outputs": [],
   "source": [
    "for fold in range(5):\n",
    "    full_feature_x = val_year[fold][0]\n",
    "    full_feature_y = val_year[fold][1]\n",
    "    data = pd.concat([full_feature_x, full_feature_y], axis=1)\n",
    "\n",
    "    full_low = data[data['income_num'] == 1]\n",
    "    full_ul = data[data['income_num'] == 2]\n",
    "    full_um = data[data['income_num'] == 3]\n",
    "    full_high = data[data['income_num'] == 4]\n",
    "    full_pre = data[data['date'] < 2000]\n",
    "    full_post = data[data['date'] >= 2000]\n",
    "\n",
    "    full_low_x = full_low.drop(columns=['date', 'setting', 'Maternal mortality ratio (national estimate, per 100,000 live births)'])\n",
    "    full_low_y = full_low[['Maternal mortality ratio (national estimate, per 100,000 live births)']]\n",
    "    val_low_year[fold].append(full_low_x)\n",
    "    val_low_year[fold].append(full_low_y)\n",
    "\n",
    "    full_ul_x = full_ul.drop(columns=['date', 'setting', 'Maternal mortality ratio (national estimate, per 100,000 live births)'])\n",
    "    full_ul_y = full_ul[['Maternal mortality ratio (national estimate, per 100,000 live births)']]\n",
    "    val_ul_year[fold].append(full_ul_x)\n",
    "    val_ul_year[fold].append(full_ul_y)\n",
    "\n",
    "    full_um_x = full_um.drop(columns=['date', 'setting', 'Maternal mortality ratio (national estimate, per 100,000 live births)'])\n",
    "    full_um_y = full_um[['Maternal mortality ratio (national estimate, per 100,000 live births)']]\n",
    "    val_um_year[fold].append(full_um_x)\n",
    "    val_um_year[fold].append(full_um_y)\n",
    "\n",
    "    full_high_x = full_high.drop(columns=['date', 'setting', 'Maternal mortality ratio (national estimate, per 100,000 live births)'])\n",
    "    full_high_y = full_high[['Maternal mortality ratio (national estimate, per 100,000 live births)']]\n",
    "    val_high_year[fold].append(full_high_x)\n",
    "    val_high_year[fold].append(full_high_y)\n",
    "\n",
    "    full_pre_x = full_pre.drop(columns=['date', 'setting', 'Maternal mortality ratio (national estimate, per 100,000 live births)'])\n",
    "    full_pre_y = full_pre[['Maternal mortality ratio (national estimate, per 100,000 live births)']]\n",
    "    val_pre_year[fold].append(full_pre_x)\n",
    "    val_pre_year[fold].append(full_pre_y)\n",
    "\n",
    "    full_post_x = full_post.drop(columns=['date', 'setting', 'Maternal mortality ratio (national estimate, per 100,000 live births)'])\n",
    "    full_post_y = full_post[['Maternal mortality ratio (national estimate, per 100,000 live births)']]\n",
    "    val_post_year[fold].append(full_post_x)\n",
    "    val_post_year[fold].append(full_post_y)\n",
    "        "
   ]
  },
  {
   "cell_type": "code",
   "execution_count": 26,
   "metadata": {},
   "outputs": [
    {
     "data": {
      "text/plain": [
       "['year_data/val_post_year.pkl']"
      ]
     },
     "execution_count": 26,
     "metadata": {},
     "output_type": "execute_result"
    }
   ],
   "source": [
    "joblib.dump(val_low_year, f\"year_data/val_low_year.pkl\")\n",
    "joblib.dump(val_ul_year, f\"year_data/val_lowermid_year.pkl\")\n",
    "joblib.dump(val_um_year, f\"year_data/val_uppermid_year.pkl\")\n",
    "joblib.dump(val_high_year, f\"year_data/val_high_year.pkl\")\n",
    "joblib.dump(val_pre_year, f\"year_data/val_pre_year.pkl\")\n",
    "joblib.dump(val_post_year, f\"year_data/val_post_year.pkl\")"
   ]
  },
  {
   "cell_type": "code",
   "execution_count": 27,
   "metadata": {},
   "outputs": [],
   "source": [
    "test_low_year = []\n",
    "test_ul_year = []\n",
    "test_um_year = []\n",
    "test_high_year = []\n",
    "test_pre_year = []\n",
    "test_post_year = []"
   ]
  },
  {
   "cell_type": "code",
   "execution_count": 28,
   "metadata": {},
   "outputs": [],
   "source": [
    "test_data = pd.concat([test_yearx, test_yeary], axis=1)\n",
    "\n",
    "test_full_low = test_data[test_data['income_num'] == 1]\n",
    "test_full_ul = test_data[test_data['income_num'] == 2]\n",
    "test_full_um = test_data[test_data['income_num'] == 3]\n",
    "test_full_high = test_data[test_data['income_num'] == 4]\n",
    "test_full_pre = test_data[test_data['date'] < 2000]\n",
    "test_full_post = test_data[test_data['date'] >= 2000]\n",
    "\n",
    "test_full_low_x = test_full_low.drop(columns=['date', 'setting', 'Maternal mortality ratio (national estimate, per 100,000 live births)'])\n",
    "test_full_low_y = test_full_low[['Maternal mortality ratio (national estimate, per 100,000 live births)']]\n",
    "test_low_year.append(test_full_low_x)\n",
    "test_low_year.append(test_full_low_y)\n",
    "\n",
    "test_full_ul_x = test_full_ul.drop(columns=['date', 'setting', 'Maternal mortality ratio (national estimate, per 100,000 live births)'])\n",
    "test_full_ul_y = test_full_ul[['Maternal mortality ratio (national estimate, per 100,000 live births)']]\n",
    "test_ul_year.append(test_full_ul_x)\n",
    "test_ul_year.append(test_full_ul_y)\n",
    "\n",
    "test_full_um_x = test_full_um.drop(columns=['date', 'setting', 'Maternal mortality ratio (national estimate, per 100,000 live births)'])\n",
    "test_full_um_y = test_full_um[['Maternal mortality ratio (national estimate, per 100,000 live births)']]\n",
    "test_um_year.append(test_full_um_x)\n",
    "test_um_year.append(test_full_um_y)\n",
    "\n",
    "test_full_high_x = test_full_high.drop(columns=['date', 'setting', 'Maternal mortality ratio (national estimate, per 100,000 live births)'])\n",
    "test_full_high_y = test_full_high[['Maternal mortality ratio (national estimate, per 100,000 live births)']]\n",
    "test_high_year.append(test_full_high_x)\n",
    "test_high_year.append(test_full_high_y)\n",
    "\n",
    "test_full_pre_x = test_full_pre.drop(columns=['date', 'setting', 'Maternal mortality ratio (national estimate, per 100,000 live births)'])\n",
    "test_full_pre_y = test_full_pre[['Maternal mortality ratio (national estimate, per 100,000 live births)']]\n",
    "test_pre_year.append(test_full_pre_x)\n",
    "test_pre_year.append(test_full_pre_y)\n",
    "\n",
    "test_full_post_x = test_full_post.drop(columns=['date', 'setting', 'Maternal mortality ratio (national estimate, per 100,000 live births)'])\n",
    "test_full_post_y = test_full_post[['Maternal mortality ratio (national estimate, per 100,000 live births)']]\n",
    "test_post_year.append(test_full_post_x)\n",
    "test_post_year.append(test_full_post_y)"
   ]
  },
  {
   "cell_type": "code",
   "execution_count": 29,
   "metadata": {},
   "outputs": [
    {
     "data": {
      "text/plain": [
       "['year_data/test_post_year.pkl']"
      ]
     },
     "execution_count": 29,
     "metadata": {},
     "output_type": "execute_result"
    }
   ],
   "source": [
    "joblib.dump(test_low_year, f\"year_data/test_low_year.pkl\")\n",
    "joblib.dump(test_ul_year, f\"year_data/test_lowermid_year.pkl\")\n",
    "joblib.dump(test_um_year, f\"year_data/test_uppermid_year.pkl\")\n",
    "joblib.dump(test_high_year, f\"year_data/test_high_year.pkl\")\n",
    "joblib.dump(test_pre_year, f\"year_data/test_pre_year.pkl\")\n",
    "joblib.dump(test_post_year, f\"year_data/test_post_year.pkl\")"
   ]
  },
  {
   "cell_type": "markdown",
   "metadata": {},
   "source": []
  }
 ],
 "metadata": {
  "kernelspec": {
   "display_name": "base",
   "language": "python",
   "name": "python3"
  },
  "language_info": {
   "codemirror_mode": {
    "name": "ipython",
    "version": 3
   },
   "file_extension": ".py",
   "mimetype": "text/x-python",
   "name": "python",
   "nbconvert_exporter": "python",
   "pygments_lexer": "ipython3",
   "version": "3.11.7"
  }
 },
 "nbformat": 4,
 "nbformat_minor": 2
}
