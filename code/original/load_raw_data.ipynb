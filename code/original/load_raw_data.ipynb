{
 "cells": [
  {
   "cell_type": "code",
   "execution_count": 3,
   "metadata": {},
   "outputs": [],
   "source": [
    "import numpy as np\n",
    "import pandas as pd\n",
    "import matplotlib.pyplot as plt\n",
    "import sklearn.decomposition as sk\n",
    "import copy"
   ]
  },
  {
   "cell_type": "markdown",
   "metadata": {},
   "source": [
    "### Loading Data"
   ]
  },
  {
   "cell_type": "markdown",
   "metadata": {},
   "source": [
    "The loaded data is laid out as follows:\n",
    "- There are two tiers (correlation imputation, threshold) for each of train, val, test sets\n",
    "- The master list will have two entries: \n",
    "    - 0 = data with no correlation imputation\n",
    "    - 1 = data with correlation imputation\n",
    "- each of the inner lists (with or without correlation imputation) will have two master lists\n",
    "    - 0 = 95% thresholding\n",
    "    - 1 = 100% thresholding (ie. no thresholding applied, original raw data)"
   ]
  },
  {
   "cell_type": "code",
   "execution_count": 4,
   "metadata": {},
   "outputs": [],
   "source": [
    "train_X = [[pd.DataFrame(pd.read_pickle('tvt_data/X_train_uncorr_95')), pd.DataFrame(pd.read_pickle('tvt_data/X_train_uncorr_100'))], [pd.DataFrame(pd.read_pickle('tvt_data/X_train_corr_95')), pd.DataFrame(pd.read_pickle('tvt_data/X_train_corr_100'))]]\n",
    "val_X = [[pd.DataFrame(pd.read_pickle('tvt_data/X_val_uncorr_95')), pd.DataFrame(pd.read_pickle('tvt_data/X_val_uncorr_100'))], [pd.DataFrame(pd.read_pickle('tvt_data/X_val_corr_95')), pd.DataFrame(pd.read_pickle('tvt_data/X_val_corr_100'))]]\n",
    "test_X = [[pd.DataFrame(pd.read_pickle('tvt_data/X_test_uncorr_95')), pd.DataFrame(pd.read_pickle('tvt_data/X_test_uncorr_100'))], [pd.DataFrame(pd.read_pickle('tvt_data/X_test_corr_95')), pd.DataFrame(pd.read_pickle('tvt_data/X_test_corr_100'))]]\n",
    "\n",
    "train_y = [[pd.DataFrame(pd.read_pickle('tvt_data/y_train_uncorr_95')), pd.DataFrame(pd.read_pickle('tvt_data/y_train_uncorr_100'))], [pd.DataFrame(pd.read_pickle('tvt_data/y_train_corr_95')), pd.DataFrame(pd.read_pickle('tvt_data/y_train_corr_100'))]]\n",
    "val_y = [[pd.DataFrame(pd.read_pickle('tvt_data/y_val_uncorr_95')), pd.DataFrame(pd.read_pickle('tvt_data/y_val_uncorr_100'))], [pd.DataFrame(pd.read_pickle('tvt_data/y_val_corr_95')), pd.DataFrame(pd.read_pickle('tvt_data/y_val_corr_100'))]]\n",
    "test_y = [[pd.DataFrame(pd.read_pickle('tvt_data/y_test_uncorr_95')), pd.DataFrame(pd.read_pickle('tvt_data/y_test_uncorr_100'))], [pd.DataFrame(pd.read_pickle('tvt_data/y_test_corr_95')), pd.DataFrame(pd.read_pickle('tvt_data/y_test_corr_100'))]]"
   ]
  },
  {
   "cell_type": "markdown",
   "metadata": {},
   "source": [
    "### g"
   ]
  },
  {
   "cell_type": "markdown",
   "metadata": {},
   "source": []
  }
 ],
 "metadata": {
  "kernelspec": {
   "display_name": "base",
   "language": "python",
   "name": "python3"
  },
  "language_info": {
   "codemirror_mode": {
    "name": "ipython",
    "version": 3
   },
   "file_extension": ".py",
   "mimetype": "text/x-python",
   "name": "python",
   "nbconvert_exporter": "python",
   "pygments_lexer": "ipython3",
   "version": "3.11.7"
  }
 },
 "nbformat": 4,
 "nbformat_minor": 2
}
