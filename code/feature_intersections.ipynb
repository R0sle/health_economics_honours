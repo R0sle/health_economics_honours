{
 "cells": [
  {
   "cell_type": "code",
   "execution_count": 1,
   "metadata": {},
   "outputs": [],
   "source": [
    "import lightgbm as lgb\n",
    "import optuna.visualization as vis\n",
    "\n",
    "import numpy as np\n",
    "import optuna\n",
    "import sys\n",
    "import joblib\n",
    "import pandas as pd\n",
    "import json\n",
    "import matplotlib.pyplot as plt\n",
    "import matplotlib\n",
    "\n",
    "from sklearn.metrics import mean_squared_error\n",
    "from sklearn.metrics import mean_absolute_error\n",
    "from sklearn.metrics import r2_score"
   ]
  },
  {
   "cell_type": "markdown",
   "metadata": {},
   "source": [
    "### Loading Data"
   ]
  },
  {
   "cell_type": "code",
   "execution_count": 4,
   "metadata": {},
   "outputs": [],
   "source": [
    "inc_filepath = '../split_income_data'"
   ]
  },
  {
   "cell_type": "code",
   "execution_count": 5,
   "metadata": {},
   "outputs": [],
   "source": [
    "inc_train = {}\n",
    "for fold in range(0, 5):\n",
    "    inc_tdata_x85 = pd.read_csv(inc_filepath + '/train/X_train_' + str(fold) + '_85.csv')\n",
    "    inc_tdata_x85 = inc_tdata_x85.drop(columns=['Unnamed: 0'], axis=1)\n",
    "    inc_tdata_y85 = pd.read_csv(inc_filepath + '/train/y_train_' + str(fold) + '_85.csv')\n",
    "    inc_tdata_y85 = inc_tdata_y85.drop(columns=['Unnamed: 0'], axis=1)\n",
    "\n",
    "    inc_tdata_x95 = pd.read_csv(inc_filepath + '/train/X_train_' + str(fold) + '_95.csv')\n",
    "    inc_tdata_x95 = inc_tdata_x95.drop(columns=['Unnamed: 0'], axis=1)\n",
    "    inc_tdata_y95 = pd.read_csv(inc_filepath + '/train/y_train_' + str(fold) + '_95.csv')\n",
    "    inc_tdata_y95 = inc_tdata_y95.drop(columns=['Unnamed: 0'], axis=1)\n",
    "\n",
    "    inc_tdata_x1 = pd.read_csv(inc_filepath + '/train/X_train_' + str(fold) + '_1.csv')\n",
    "    inc_tdata_x1 = inc_tdata_x1.drop(columns=['Unnamed: 0'], axis=1)\n",
    "    inc_tdata_y1 = pd.read_csv(inc_filepath + '/train/y_train_' + str(fold) + '_1.csv')\n",
    "    inc_tdata_y1 = inc_tdata_y1.drop(columns=['Unnamed: 0'], axis=1)\n",
    "\n",
    "    inc_train[fold] = [inc_tdata_x85, inc_tdata_y85, inc_tdata_x95, inc_tdata_y95, inc_tdata_x1, inc_tdata_y1]"
   ]
  },
  {
   "cell_type": "code",
   "execution_count": 6,
   "metadata": {},
   "outputs": [],
   "source": [
    "year_filepath = '../split_year_data'"
   ]
  },
  {
   "cell_type": "code",
   "execution_count": 7,
   "metadata": {},
   "outputs": [],
   "source": [
    "year_train = {}\n",
    "for fold in range(0, 5):\n",
    "    year_tdata_x85 = pd.read_csv(year_filepath + '/train/X_train_' + str(fold) + '_85.csv')\n",
    "    year_tdata_x85 = year_tdata_x85.drop(columns=['Unnamed: 0'], axis=1)\n",
    "    year_tdata_y85 = pd.read_csv(year_filepath + '/train/y_train_' + str(fold) + '_85.csv')\n",
    "    year_tdata_y85 = year_tdata_y85.drop(columns=['Unnamed: 0'], axis=1)\n",
    "\n",
    "    year_tdata_x95 = pd.read_csv(year_filepath + '/train/X_train_' + str(fold) + '_95.csv')\n",
    "    year_tdata_x95 = year_tdata_x95.drop(columns=['Unnamed: 0'], axis=1)\n",
    "    year_tdata_y95 = pd.read_csv(year_filepath + '/train/y_train_' + str(fold) + '_95.csv')\n",
    "    year_tdata_y95 = year_tdata_y95.drop(columns=['Unnamed: 0'], axis=1)\n",
    "\n",
    "    year_tdata_x1 = pd.read_csv(year_filepath + '/train/X_train_' + str(fold) + '_1.csv')\n",
    "    year_tdata_x1 = year_tdata_x1.drop(columns=['Unnamed: 0'], axis=1)\n",
    "    year_tdata_y1 = pd.read_csv(year_filepath + '/train/y_train_' + str(fold) + '_1.csv')\n",
    "    year_tdata_y1 = year_tdata_y1.drop(columns=['Unnamed: 0'], axis=1)\n",
    "\n",
    "    year_train[fold] = [year_tdata_x85, year_tdata_y85, year_tdata_x95, year_tdata_y95, year_tdata_x1, year_tdata_y1]"
   ]
  },
  {
   "cell_type": "markdown",
   "metadata": {},
   "source": [
    "### Data Intersections"
   ]
  },
  {
   "cell_type": "code",
   "execution_count": 21,
   "metadata": {},
   "outputs": [],
   "source": [
    "inc_train_features = []\n",
    "inc_train_features_size = []"
   ]
  },
  {
   "cell_type": "code",
   "execution_count": 22,
   "metadata": {},
   "outputs": [],
   "source": [
    "for thresh in range(0, 3):\n",
    "    common_cols = set(inc_train[0][thresh * 2].columns) \\\n",
    "    .intersection(inc_train[1][thresh * 2].columns) \\\n",
    "    .intersection(inc_train[2][thresh * 2].columns) \\\n",
    "    .intersection(inc_train[3][thresh * 2].columns) \\\n",
    "    .intersection(inc_train[4][thresh * 2].columns)\n",
    "    \n",
    "    inc_train_features.append(common_cols)\n",
    "    inc_train_features_size.append(len(common_cols))"
   ]
  },
  {
   "cell_type": "code",
   "execution_count": 23,
   "metadata": {},
   "outputs": [],
   "source": [
    "year_train_features = []\n",
    "year_train_features_size = []"
   ]
  },
  {
   "cell_type": "code",
   "execution_count": 24,
   "metadata": {},
   "outputs": [],
   "source": [
    "for thresh in range(0, 3):\n",
    "    common_cols = set(year_train[0][thresh * 2].columns) \\\n",
    "    .intersection(year_train[1][thresh * 2].columns) \\\n",
    "    .intersection(year_train[2][thresh * 2].columns) \\\n",
    "    .intersection(year_train[3][thresh * 2].columns) \\\n",
    "    .intersection(year_train[4][thresh * 2].columns)\n",
    "    \n",
    "    year_train_features.append(common_cols)\n",
    "    year_train_features_size.append(len(common_cols))"
   ]
  },
  {
   "cell_type": "code",
   "execution_count": 25,
   "metadata": {},
   "outputs": [
    {
     "data": {
      "text/plain": [
       "([600, 628, 722], [558, 624, 722])"
      ]
     },
     "execution_count": 25,
     "metadata": {},
     "output_type": "execute_result"
    }
   ],
   "source": [
    "inc_train_features_size, year_train_features_size"
   ]
  },
  {
   "cell_type": "markdown",
   "metadata": {},
   "source": []
  }
 ],
 "metadata": {
  "kernelspec": {
   "display_name": "base",
   "language": "python",
   "name": "python3"
  },
  "language_info": {
   "codemirror_mode": {
    "name": "ipython",
    "version": 3
   },
   "file_extension": ".py",
   "mimetype": "text/x-python",
   "name": "python",
   "nbconvert_exporter": "python",
   "pygments_lexer": "ipython3",
   "version": "3.11.7"
  }
 },
 "nbformat": 4,
 "nbformat_minor": 2
}
